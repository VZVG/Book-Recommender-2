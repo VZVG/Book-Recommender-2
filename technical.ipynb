{
 "cells": [
  {
   "cell_type": "code",
   "execution_count": null,
   "metadata": {},
   "outputs": [
    {
     "name": "stderr",
     "output_type": "stream",
     "text": [
      "<ipython-input-2-59ab05e21164>:2: DeprecationWarning: \n",
      "Pyarrow will become a required dependency of pandas in the next major release of pandas (pandas 3.0),\n",
      "(to allow more performant data types, such as the Arrow string type, and better interoperability with other libraries)\n",
      "but was not found to be installed on your system.\n",
      "If this would cause problems for you,\n",
      "please provide us feedback at https://github.com/pandas-dev/pandas/issues/54466\n",
      "        \n",
      "  import pandas as pd\n"
     ]
    }
   ],
   "source": [
    "import numpy as np\n",
    "import pandas as pd"
   ]
  },
  {
   "cell_type": "code",
   "execution_count": null,
   "metadata": {},
   "outputs": [],
   "source": [
    "books = pd.read_csv('books.csv')"
   ]
  },
  {
   "cell_type": "code",
   "execution_count": null,
   "metadata": {},
   "outputs": [
    {
     "data": {
      "text/html": [
       "<div>\n",
       "<style scoped>\n",
       "    .dataframe tbody tr th:only-of-type {\n",
       "        vertical-align: middle;\n",
       "    }\n",
       "\n",
       "    .dataframe tbody tr th {\n",
       "        vertical-align: top;\n",
       "    }\n",
       "\n",
       "    .dataframe thead th {\n",
       "        text-align: right;\n",
       "    }\n",
       "</style>\n",
       "<table border=\"1\" class=\"dataframe\">\n",
       "  <thead>\n",
       "    <tr style=\"text-align: right;\">\n",
       "      <th></th>\n",
       "      <th>title</th>\n",
       "      <th>author</th>\n",
       "      <th>image</th>\n",
       "      <th>desc</th>\n",
       "      <th>download_link</th>\n",
       "      <th>pages</th>\n",
       "      <th>publisher</th>\n",
       "      <th>year</th>\n",
       "      <th>language</th>\n",
       "      <th>file</th>\n",
       "    </tr>\n",
       "  </thead>\n",
       "  <tbody>\n",
       "    <tr>\n",
       "      <th>0</th>\n",
       "      <td>Soil Mechanics of Earthworks, Foundations and ...</td>\n",
       "      <td>NaN</td>\n",
       "      <td>https://covers.zlibcdn2.com/covers100/books/01...</td>\n",
       "      <td>\\n                    This is the third volume...</td>\n",
       "      <td>https://1lib.in/dl/2279969/9cd462</td>\n",
       "      <td>354.0</td>\n",
       "      <td>Elsevier Science</td>\n",
       "      <td>1988.0</td>\n",
       "      <td>english</td>\n",
       "      <td>PDF, 9.35 MB</td>\n",
       "    </tr>\n",
       "    <tr>\n",
       "      <th>1</th>\n",
       "      <td>Foundation Engineering: Design and Constructio...</td>\n",
       "      <td>B.B.K. Huat</td>\n",
       "      <td>https://covers.zlibcdn2.com/covers100/books/1b...</td>\n",
       "      <td>\\n                    Residual soils are found...</td>\n",
       "      <td>https://1lib.in/dl/1247565/f9e712</td>\n",
       "      <td>256.0</td>\n",
       "      <td>Taylor &amp; Francis</td>\n",
       "      <td>2006.0</td>\n",
       "      <td>english</td>\n",
       "      <td>PDF, 86.52 MB</td>\n",
       "    </tr>\n",
       "    <tr>\n",
       "      <th>2</th>\n",
       "      <td>Practical Problems in Soil Mechanics and Found...</td>\n",
       "      <td>Sheng Y. Peng</td>\n",
       "      <td>https://covers.zlibcdn2.com/covers100/books/7d...</td>\n",
       "      <td>NaN</td>\n",
       "      <td>https://1lib.in/dl/2800423/3ccf77</td>\n",
       "      <td>346.0</td>\n",
       "      <td>Elsevier Science Ltd</td>\n",
       "      <td>1985.0</td>\n",
       "      <td>english</td>\n",
       "      <td>PDF, 9.86 MB</td>\n",
       "    </tr>\n",
       "    <tr>\n",
       "      <th>3</th>\n",
       "      <td>Underwater Embankments on Soft Soil A Case His...</td>\n",
       "      <td>William F. van Impe</td>\n",
       "      <td>https://covers.zlibcdn2.com/covers100/books/2b...</td>\n",
       "      <td>NaN</td>\n",
       "      <td>https://1lib.in/dl/981008/e79e1d</td>\n",
       "      <td>154.0</td>\n",
       "      <td>NaN</td>\n",
       "      <td>2007.0</td>\n",
       "      <td>english</td>\n",
       "      <td>PDF, 3.35 MB</td>\n",
       "    </tr>\n",
       "    <tr>\n",
       "      <th>4</th>\n",
       "      <td>Eco- and Ground Bio-Engineering: The Use of Ve...</td>\n",
       "      <td>Alexia Stokes</td>\n",
       "      <td>https://covers.zlibcdn2.com/covers100/books/d2...</td>\n",
       "      <td>\\n                    This volume brings toget...</td>\n",
       "      <td>https://1lib.in/dl/901430/e57c96</td>\n",
       "      <td>420.0</td>\n",
       "      <td>NaN</td>\n",
       "      <td>2007.0</td>\n",
       "      <td>english</td>\n",
       "      <td>PDF, 10.67 MB</td>\n",
       "    </tr>\n",
       "  </tbody>\n",
       "</table>\n",
       "</div>"
      ],
      "text/plain": [
       "                                               title               author  \\\n",
       "0  Soil Mechanics of Earthworks, Foundations and ...                  NaN   \n",
       "1  Foundation Engineering: Design and Constructio...          B.B.K. Huat   \n",
       "2  Practical Problems in Soil Mechanics and Found...        Sheng Y. Peng   \n",
       "3  Underwater Embankments on Soft Soil A Case His...  William F. van Impe   \n",
       "4  Eco- and Ground Bio-Engineering: The Use of Ve...        Alexia Stokes   \n",
       "\n",
       "                                               image  \\\n",
       "0  https://covers.zlibcdn2.com/covers100/books/01...   \n",
       "1  https://covers.zlibcdn2.com/covers100/books/1b...   \n",
       "2  https://covers.zlibcdn2.com/covers100/books/7d...   \n",
       "3  https://covers.zlibcdn2.com/covers100/books/2b...   \n",
       "4  https://covers.zlibcdn2.com/covers100/books/d2...   \n",
       "\n",
       "                                                desc  \\\n",
       "0  \\n                    This is the third volume...   \n",
       "1  \\n                    Residual soils are found...   \n",
       "2                                                NaN   \n",
       "3                                                NaN   \n",
       "4  \\n                    This volume brings toget...   \n",
       "\n",
       "                       download_link  pages             publisher    year  \\\n",
       "0  https://1lib.in/dl/2279969/9cd462  354.0      Elsevier Science  1988.0   \n",
       "1  https://1lib.in/dl/1247565/f9e712  256.0      Taylor & Francis  2006.0   \n",
       "2  https://1lib.in/dl/2800423/3ccf77  346.0  Elsevier Science Ltd  1985.0   \n",
       "3   https://1lib.in/dl/981008/e79e1d  154.0                   NaN  2007.0   \n",
       "4   https://1lib.in/dl/901430/e57c96  420.0                   NaN  2007.0   \n",
       "\n",
       "  language           file  \n",
       "0  english   PDF, 9.35 MB  \n",
       "1  english  PDF, 86.52 MB  \n",
       "2  english   PDF, 9.86 MB  \n",
       "3  english   PDF, 3.35 MB  \n",
       "4  english  PDF, 10.67 MB  "
      ]
     },
     "execution_count": 4,
     "metadata": {},
     "output_type": "execute_result"
    }
   ],
   "source": [
    "books.head()"
   ]
  },
  {
   "cell_type": "code",
   "execution_count": null,
   "metadata": {},
   "outputs": [
    {
     "name": "stdout",
     "output_type": "stream",
     "text": [
      "(2375, 10)\n"
     ]
    }
   ],
   "source": [
    "print(books.shape)"
   ]
  },
  {
   "cell_type": "code",
   "execution_count": null,
   "metadata": {},
   "outputs": [
    {
     "data": {
      "text/plain": [
       "title              0\n",
       "author            22\n",
       "image              3\n",
       "desc             624\n",
       "download_link     79\n",
       "pages            387\n",
       "publisher        280\n",
       "year             151\n",
       "language          20\n",
       "file               0\n",
       "dtype: int64"
      ]
     },
     "execution_count": 6,
     "metadata": {},
     "output_type": "execute_result"
    }
   ],
   "source": [
    "books.isnull().sum()"
   ]
  },
  {
   "cell_type": "code",
   "execution_count": null,
   "metadata": {},
   "outputs": [],
   "source": [
    "books_grouped = books.groupby('title')\n"
   ]
  },
  {
   "cell_type": "code",
   "execution_count": null,
   "metadata": {},
   "outputs": [
    {
     "name": "stderr",
     "output_type": "stream",
     "text": [
      "<ipython-input-8-a37ca659dd45>:1: FutureWarning: A value is trying to be set on a copy of a DataFrame or Series through chained assignment using an inplace method.\n",
      "The behavior will change in pandas 3.0. This inplace method will never work because the intermediate object on which we are setting values always behaves as a copy.\n",
      "\n",
      "For example, when doing 'df[col].method(value, inplace=True)', try using 'df.method({col: value}, inplace=True)' or df[col] = df[col].method(value) instead, to perform the operation inplace on the original object.\n",
      "\n",
      "\n",
      "  books['author'].fillna('',inplace=True)\n",
      "<ipython-input-8-a37ca659dd45>:2: FutureWarning: A value is trying to be set on a copy of a DataFrame or Series through chained assignment using an inplace method.\n",
      "The behavior will change in pandas 3.0. This inplace method will never work because the intermediate object on which we are setting values always behaves as a copy.\n",
      "\n",
      "For example, when doing 'df[col].method(value, inplace=True)', try using 'df.method({col: value}, inplace=True)' or df[col] = df[col].method(value) instead, to perform the operation inplace on the original object.\n",
      "\n",
      "\n",
      "  books['desc'].fillna('',inplace=True)\n",
      "<ipython-input-8-a37ca659dd45>:3: FutureWarning: A value is trying to be set on a copy of a DataFrame or Series through chained assignment using an inplace method.\n",
      "The behavior will change in pandas 3.0. This inplace method will never work because the intermediate object on which we are setting values always behaves as a copy.\n",
      "\n",
      "For example, when doing 'df[col].method(value, inplace=True)', try using 'df.method({col: value}, inplace=True)' or df[col] = df[col].method(value) instead, to perform the operation inplace on the original object.\n",
      "\n",
      "\n",
      "  books['publisher'].fillna('',inplace=True)\n"
     ]
    }
   ],
   "source": [
    "books['author'].fillna('',inplace=True)\n",
    "books['desc'].fillna('',inplace=True)\n",
    "books['publisher'].fillna('',inplace=True)"
   ]
  },
  {
   "cell_type": "code",
   "execution_count": null,
   "metadata": {},
   "outputs": [],
   "source": [
    "#now combining relevant features into a single string\n",
    "\n"
   ]
  },
  {
   "cell_type": "code",
   "execution_count": null,
   "metadata": {},
   "outputs": [
    {
     "data": {
      "text/html": [
       "<div>\n",
       "<style scoped>\n",
       "    .dataframe tbody tr th:only-of-type {\n",
       "        vertical-align: middle;\n",
       "    }\n",
       "\n",
       "    .dataframe tbody tr th {\n",
       "        vertical-align: top;\n",
       "    }\n",
       "\n",
       "    .dataframe thead th {\n",
       "        text-align: right;\n",
       "    }\n",
       "</style>\n",
       "<table border=\"1\" class=\"dataframe\">\n",
       "  <thead>\n",
       "    <tr style=\"text-align: right;\">\n",
       "      <th></th>\n",
       "      <th>title</th>\n",
       "      <th>author</th>\n",
       "      <th>image</th>\n",
       "      <th>desc</th>\n",
       "      <th>download_link</th>\n",
       "      <th>pages</th>\n",
       "      <th>publisher</th>\n",
       "      <th>year</th>\n",
       "      <th>language</th>\n",
       "      <th>file</th>\n",
       "    </tr>\n",
       "  </thead>\n",
       "  <tbody>\n",
       "    <tr>\n",
       "      <th>0</th>\n",
       "      <td>Soil Mechanics of Earthworks, Foundations and ...</td>\n",
       "      <td></td>\n",
       "      <td>https://covers.zlibcdn2.com/covers100/books/01...</td>\n",
       "      <td>\\n                    This is the third volume...</td>\n",
       "      <td>https://1lib.in/dl/2279969/9cd462</td>\n",
       "      <td>354.0</td>\n",
       "      <td>Elsevier Science</td>\n",
       "      <td>1988.0</td>\n",
       "      <td>english</td>\n",
       "      <td>PDF, 9.35 MB</td>\n",
       "    </tr>\n",
       "    <tr>\n",
       "      <th>1</th>\n",
       "      <td>Foundation Engineering: Design and Constructio...</td>\n",
       "      <td>B.B.K. Huat</td>\n",
       "      <td>https://covers.zlibcdn2.com/covers100/books/1b...</td>\n",
       "      <td>\\n                    Residual soils are found...</td>\n",
       "      <td>https://1lib.in/dl/1247565/f9e712</td>\n",
       "      <td>256.0</td>\n",
       "      <td>Taylor &amp; Francis</td>\n",
       "      <td>2006.0</td>\n",
       "      <td>english</td>\n",
       "      <td>PDF, 86.52 MB</td>\n",
       "    </tr>\n",
       "    <tr>\n",
       "      <th>2</th>\n",
       "      <td>Practical Problems in Soil Mechanics and Found...</td>\n",
       "      <td>Sheng Y. Peng</td>\n",
       "      <td>https://covers.zlibcdn2.com/covers100/books/7d...</td>\n",
       "      <td></td>\n",
       "      <td>https://1lib.in/dl/2800423/3ccf77</td>\n",
       "      <td>346.0</td>\n",
       "      <td>Elsevier Science Ltd</td>\n",
       "      <td>1985.0</td>\n",
       "      <td>english</td>\n",
       "      <td>PDF, 9.86 MB</td>\n",
       "    </tr>\n",
       "    <tr>\n",
       "      <th>3</th>\n",
       "      <td>Underwater Embankments on Soft Soil A Case His...</td>\n",
       "      <td>William F. van Impe</td>\n",
       "      <td>https://covers.zlibcdn2.com/covers100/books/2b...</td>\n",
       "      <td></td>\n",
       "      <td>https://1lib.in/dl/981008/e79e1d</td>\n",
       "      <td>154.0</td>\n",
       "      <td></td>\n",
       "      <td>2007.0</td>\n",
       "      <td>english</td>\n",
       "      <td>PDF, 3.35 MB</td>\n",
       "    </tr>\n",
       "    <tr>\n",
       "      <th>4</th>\n",
       "      <td>Eco- and Ground Bio-Engineering: The Use of Ve...</td>\n",
       "      <td>Alexia Stokes</td>\n",
       "      <td>https://covers.zlibcdn2.com/covers100/books/d2...</td>\n",
       "      <td>\\n                    This volume brings toget...</td>\n",
       "      <td>https://1lib.in/dl/901430/e57c96</td>\n",
       "      <td>420.0</td>\n",
       "      <td></td>\n",
       "      <td>2007.0</td>\n",
       "      <td>english</td>\n",
       "      <td>PDF, 10.67 MB</td>\n",
       "    </tr>\n",
       "  </tbody>\n",
       "</table>\n",
       "</div>"
      ],
      "text/plain": [
       "                                               title               author  \\\n",
       "0  Soil Mechanics of Earthworks, Foundations and ...                        \n",
       "1  Foundation Engineering: Design and Constructio...          B.B.K. Huat   \n",
       "2  Practical Problems in Soil Mechanics and Found...        Sheng Y. Peng   \n",
       "3  Underwater Embankments on Soft Soil A Case His...  William F. van Impe   \n",
       "4  Eco- and Ground Bio-Engineering: The Use of Ve...        Alexia Stokes   \n",
       "\n",
       "                                               image  \\\n",
       "0  https://covers.zlibcdn2.com/covers100/books/01...   \n",
       "1  https://covers.zlibcdn2.com/covers100/books/1b...   \n",
       "2  https://covers.zlibcdn2.com/covers100/books/7d...   \n",
       "3  https://covers.zlibcdn2.com/covers100/books/2b...   \n",
       "4  https://covers.zlibcdn2.com/covers100/books/d2...   \n",
       "\n",
       "                                                desc  \\\n",
       "0  \\n                    This is the third volume...   \n",
       "1  \\n                    Residual soils are found...   \n",
       "2                                                      \n",
       "3                                                      \n",
       "4  \\n                    This volume brings toget...   \n",
       "\n",
       "                       download_link  pages             publisher    year  \\\n",
       "0  https://1lib.in/dl/2279969/9cd462  354.0      Elsevier Science  1988.0   \n",
       "1  https://1lib.in/dl/1247565/f9e712  256.0      Taylor & Francis  2006.0   \n",
       "2  https://1lib.in/dl/2800423/3ccf77  346.0  Elsevier Science Ltd  1985.0   \n",
       "3   https://1lib.in/dl/981008/e79e1d  154.0                        2007.0   \n",
       "4   https://1lib.in/dl/901430/e57c96  420.0                        2007.0   \n",
       "\n",
       "  language           file  \n",
       "0  english   PDF, 9.35 MB  \n",
       "1  english  PDF, 86.52 MB  \n",
       "2  english   PDF, 9.86 MB  \n",
       "3  english   PDF, 3.35 MB  \n",
       "4  english  PDF, 10.67 MB  "
      ]
     },
     "execution_count": 10,
     "metadata": {},
     "output_type": "execute_result"
    }
   ],
   "source": [
    "books.head()"
   ]
  },
  {
   "cell_type": "code",
   "execution_count": null,
   "metadata": {},
   "outputs": [],
   "source": [
    "books['combined_features'] = books['title']+' '+ books['author'] + books['desc'] + books['publisher']"
   ]
  },
  {
   "cell_type": "code",
   "execution_count": null,
   "metadata": {},
   "outputs": [],
   "source": [
    "from sklearn.feature_extraction.text import TfidfVectorizer\n",
    "\n",
    "tfidf_vectorizer = TfidfVectorizer(stop_words = 'english')\n",
    "tfidf_matrix = tfidf_vectorizer.fit_transform(books['combined_features'])"
   ]
  },
  {
   "cell_type": "code",
   "execution_count": null,
   "metadata": {},
   "outputs": [],
   "source": [
    "from sklearn.metrics.pairwise import cosine_similarity\n",
    "\n",
    "# Compute the cosine similarity matrix\n",
    "cosine_sim_matrix = cosine_similarity(tfidf_matrix, tfidf_matrix)\n",
    "cosine_sim = cosine_sim_matrix"
   ]
  },
  {
   "cell_type": "code",
   "execution_count": null,
   "metadata": {},
   "outputs": [],
   "source": [
    "def get_recommendations(title, cosine_sim):\n",
    "    # Check if the title exists in the DataFrame\n",
    "    if title not in books['title'].values:\n",
    "        return f\"Title '{title}' not found in the dataset.\"\n",
    "    \n",
    "    # Get the index of the book that matches the title\n",
    "    idx = books[books['title'] == title].index[0]\n",
    "\n",
    "    # Get the pairwise similarity scores of all books with that book\n",
    "    sim_scores = list(enumerate(cosine_sim[idx]))\n",
    "\n",
    "    # Sort the books based on the similarity scores\n",
    "    sim_scores = sorted(sim_scores, key=lambda x: x[1], reverse=True)\n",
    "\n",
    "    # Get the scores of the 10 most similar books\n",
    "    sim_scores = sim_scores[1:11]\n",
    "\n",
    "    # Get the book indices\n",
    "    book_indices = [i[0] for i in sim_scores]\n",
    "\n",
    "    # Return the top 10 most similar books\n",
    "    return books['title'].iloc[book_indices]\n",
    "\n"
   ]
  },
  {
   "cell_type": "code",
   "execution_count": null,
   "metadata": {
    "scrolled": true
   },
   "outputs": [
    {
     "name": "stdout",
     "output_type": "stream",
     "text": [
      "1882    Thermodynamics: An Engineering Approach with S...\n",
      "1885    Introduction To Thermodynamics and Heat Transf...\n",
      "1884    Introduction to Chemical Engineering Thermodyn...\n",
      "1875    solution manual Introduction to Chemical Engin...\n",
      "7                            Principles of Thermodynamics\n",
      "8       Thermodynamics: An Engineering Approach 8th Ed...\n",
      "1757    Thermodynamics: An Engineering Approach 8th Ed...\n",
      "1843    Thermodynamics: An Engineering Approach 8th Ed...\n",
      "1868    Thermodynamics: An Engineering Approach 8th Ed...\n",
      "1876                           Engineering Thermodynamics\n",
      "Name: title, dtype: object\n"
     ]
    }
   ],
   "source": [
    "print(get_recommendations('Thermodynamics For Dummies', cosine_sim))"
   ]
  }
 ],
 "metadata": {
  "kernelspec": {
   "display_name": "Python 3 (ipykernel)",
   "language": "python",
   "name": "python3"
  },
  "language_info": {
   "codemirror_mode": {
    "name": "ipython",
    "version": 3
   },
   "file_extension": ".py",
   "mimetype": "text/x-python",
   "name": "python",
   "nbconvert_exporter": "python",
   "pygments_lexer": "ipython3",
   "version": "3.11.4"
  }
 },
 "nbformat": 4,
 "nbformat_minor": 4
}
